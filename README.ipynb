{
 "cells": [
  {
   "cell_type": "markdown",
   "id": "095ab582-502d-49ed-8159-a8bcaf4dc464",
   "metadata": {},
   "source": [
    "# rust-bevy-stealth - simple stealth game with rust and bevy"
   ]
  },
  {
   "cell_type": "markdown",
   "id": "e00ef323-19e3-4294-83d7-4cf499df5d39",
   "metadata": {},
   "source": [
    "**Bad Catch** is a simple stealth game.  \n",
    "\n",
    "Created with rust, bevy and rapier3d.\n",
    "\n",
    "Inspired by many good stealth games.\n",
    "\n",
    "Will be published on itch.io"
   ]
  },
  {
   "cell_type": "markdown",
   "id": "03c98fb9-401b-42c1-a812-45a456091bf8",
   "metadata": {},
   "source": [
    "## step 1 .. guards moving and basic light"
   ]
  },
  {
   "cell_type": "markdown",
   "id": "f565389a-2067-43b9-a9fe-4bce5f63f411",
   "metadata": {},
   "source": [
    "<img src=\"img/step1.gif\" width=\"320\" align=\"left\"><br><br><br><br><br><br><br><br><br><br><br><br><br><br>"
   ]
  },
  {
   "cell_type": "code",
   "execution_count": null,
   "id": "7a431ea7-5740-4a1d-9244-e915d3e6ab08",
   "metadata": {},
   "outputs": [],
   "source": []
  }
 ],
 "metadata": {
  "kernelspec": {
   "display_name": "Rust",
   "language": "rust",
   "name": "rust"
  },
  "language_info": {
   "codemirror_mode": "rust",
   "file_extension": ".rs",
   "mimetype": "text/rust",
   "name": "Rust",
   "pygment_lexer": "rust",
   "version": ""
  }
 },
 "nbformat": 4,
 "nbformat_minor": 5
}
